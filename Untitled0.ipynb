{
  "nbformat": 4,
  "nbformat_minor": 0,
  "metadata": {
    "colab": {
      "name": "Untitled0.ipynb",
      "provenance": [],
      "collapsed_sections": [],
      "authorship_tag": "ABX9TyP19VpwAJs6rHPgudpObMUS",
      "include_colab_link": true
    },
    "kernelspec": {
      "name": "python3",
      "display_name": "Python 3"
    }
  },
  "cells": [
    {
      "cell_type": "markdown",
      "metadata": {
        "id": "view-in-github",
        "colab_type": "text"
      },
      "source": [
        "<a href=\"https://colab.research.google.com/github/adarsh-meher/JH---HR-Analytics/blob/master/Untitled0.ipynb\" target=\"_parent\"><img src=\"https://colab.research.google.com/assets/colab-badge.svg\" alt=\"Open In Colab\"/></a>"
      ]
    },
    {
      "cell_type": "code",
      "metadata": {
        "id": "optn0Rz6Upu9",
        "colab_type": "code",
        "colab": {
          "base_uri": "https://localhost:8080/",
          "height": 127
        },
        "outputId": "7a5d9ac9-aa4a-47ef-f66c-ce151bab23e5"
      },
      "source": [
        "!git clone https://github.com/adarsh-meher/JH---HR-Analytics.git"
      ],
      "execution_count": 1,
      "outputs": [
        {
          "output_type": "stream",
          "text": [
            "Cloning into 'JH---HR-Analytics'...\n",
            "remote: Enumerating objects: 8, done.\u001b[K\n",
            "remote: Counting objects:  12% (1/8)\u001b[K\rremote: Counting objects:  25% (2/8)\u001b[K\rremote: Counting objects:  37% (3/8)\u001b[K\rremote: Counting objects:  50% (4/8)\u001b[K\rremote: Counting objects:  62% (5/8)\u001b[K\rremote: Counting objects:  75% (6/8)\u001b[K\rremote: Counting objects:  87% (7/8)\u001b[K\rremote: Counting objects: 100% (8/8)\u001b[K\rremote: Counting objects: 100% (8/8), done.\u001b[K\n",
            "remote: Compressing objects:  14% (1/7)\u001b[K\rremote: Compressing objects:  28% (2/7)\u001b[K\rremote: Compressing objects:  42% (3/7)\u001b[K\rremote: Compressing objects:  57% (4/7)\u001b[K\rremote: Compressing objects:  71% (5/7)\u001b[K\rremote: Compressing objects:  85% (6/7)\u001b[K\rremote: Compressing objects: 100% (7/7)\u001b[K\rremote: Compressing objects: 100% (7/7), done.\u001b[K\n",
            "Unpacking objects:  12% (1/8)   \rUnpacking objects:  25% (2/8)   \rUnpacking objects:  37% (3/8)   \rUnpacking objects:  50% (4/8)   \rUnpacking objects:  62% (5/8)   \rUnpacking objects:  75% (6/8)   \rremote: Total 8 (delta 1), reused 0 (delta 0), pack-reused 0\u001b[K\n",
            "Unpacking objects:  87% (7/8)   \rUnpacking objects: 100% (8/8)   \rUnpacking objects: 100% (8/8), done.\n"
          ],
          "name": "stdout"
        }
      ]
    },
    {
      "cell_type": "code",
      "metadata": {
        "id": "kro7sqkZUxiB",
        "colab_type": "code",
        "colab": {}
      },
      "source": [
        "import os\n",
        "os.chdir('/content/JH---HR-Analytics')"
      ],
      "execution_count": 0,
      "outputs": []
    },
    {
      "cell_type": "code",
      "metadata": {
        "id": "J_PGOJqeWM_s",
        "colab_type": "code",
        "colab": {
          "base_uri": "https://localhost:8080/",
          "height": 368
        },
        "outputId": "331d4f08-c924-42dd-d9ff-20e87ac96f6c"
      },
      "source": [
        "!pip install catboost"
      ],
      "execution_count": 7,
      "outputs": [
        {
          "output_type": "stream",
          "text": [
            "Collecting catboost\n",
            "\u001b[?25l  Downloading https://files.pythonhosted.org/packages/b1/61/2b8106c8870601671d99ca94d8b8d180f2b740b7cdb95c930147508abcf9/catboost-0.23-cp36-none-manylinux1_x86_64.whl (64.7MB)\n",
            "\u001b[K     |████████████████████████████████| 64.8MB 59kB/s \n",
            "\u001b[?25hRequirement already satisfied: pandas>=0.24.0 in /usr/local/lib/python3.6/dist-packages (from catboost) (1.0.3)\n",
            "Requirement already satisfied: scipy in /usr/local/lib/python3.6/dist-packages (from catboost) (1.4.1)\n",
            "Requirement already satisfied: numpy>=1.16.0 in /usr/local/lib/python3.6/dist-packages (from catboost) (1.18.4)\n",
            "Requirement already satisfied: graphviz in /usr/local/lib/python3.6/dist-packages (from catboost) (0.10.1)\n",
            "Requirement already satisfied: matplotlib in /usr/local/lib/python3.6/dist-packages (from catboost) (3.2.1)\n",
            "Requirement already satisfied: six in /usr/local/lib/python3.6/dist-packages (from catboost) (1.12.0)\n",
            "Requirement already satisfied: plotly in /usr/local/lib/python3.6/dist-packages (from catboost) (4.4.1)\n",
            "Requirement already satisfied: pytz>=2017.2 in /usr/local/lib/python3.6/dist-packages (from pandas>=0.24.0->catboost) (2018.9)\n",
            "Requirement already satisfied: python-dateutil>=2.6.1 in /usr/local/lib/python3.6/dist-packages (from pandas>=0.24.0->catboost) (2.8.1)\n",
            "Requirement already satisfied: pyparsing!=2.0.4,!=2.1.2,!=2.1.6,>=2.0.1 in /usr/local/lib/python3.6/dist-packages (from matplotlib->catboost) (2.4.7)\n",
            "Requirement already satisfied: kiwisolver>=1.0.1 in /usr/local/lib/python3.6/dist-packages (from matplotlib->catboost) (1.2.0)\n",
            "Requirement already satisfied: cycler>=0.10 in /usr/local/lib/python3.6/dist-packages (from matplotlib->catboost) (0.10.0)\n",
            "Requirement already satisfied: retrying>=1.3.3 in /usr/local/lib/python3.6/dist-packages (from plotly->catboost) (1.3.3)\n",
            "Installing collected packages: catboost\n",
            "Successfully installed catboost-0.23\n"
          ],
          "name": "stdout"
        }
      ]
    },
    {
      "cell_type": "code",
      "metadata": {
        "id": "qdOmJx3hWO_L",
        "colab_type": "code",
        "colab": {}
      },
      "source": [
        "import pandas as pd\n",
        "import numpy as np\n",
        "import sklearn as sk\n",
        "import matplotlib.pyplot as plt\n",
        "import matplotlib as mpl\n",
        "import seaborn as sb\n",
        "import xgboost as xgb\n",
        "import lightgbm as lgbm\n",
        "import catboost as cb\n",
        "import hyperopt"
      ],
      "execution_count": 0,
      "outputs": []
    },
    {
      "cell_type": "code",
      "metadata": {
        "id": "1LzusTibX5YP",
        "colab_type": "code",
        "colab": {}
      },
      "source": [
        "train_data = pd.read_csv('train.csv')\n",
        "test_data = pd.read_csv('test.csv')"
      ],
      "execution_count": 0,
      "outputs": []
    },
    {
      "cell_type": "code",
      "metadata": {
        "id": "7gv7hu3eYfsP",
        "colab_type": "code",
        "colab": {}
      },
      "source": [
        "###### Function to get basic summary of data\n",
        "\n",
        "\n",
        "\n",
        "\n",
        "def data_summary(d,cols_to_drop = []):\n",
        "  d = d.drop(cols_to_drop,axis = 1) if len(cols_to_drop)>0 else d\n",
        "  d1 = pd.DataFrame(columns = ['Data Type','Num unique values','Num missing values','Max/Modal Value','Mean Value','Range of Values','Correlation with target'])\n",
        "  for c in d.columns:\n"
      ],
      "execution_count": 0,
      "outputs": []
    },
    {
      "cell_type": "code",
      "metadata": {
        "id": "6FfDoKVObqJ_",
        "colab_type": "code",
        "colab": {
          "base_uri": "https://localhost:8080/",
          "height": 403
        },
        "outputId": "6891347e-e956-4421-edb0-058c69d028fe"
      },
      "source": [
        "train_data.info()\n",
        "##### Presence of missing values in : gender ,enrolled_university,education_level ,major_discipline,experience,company_size,company_type,last_new_job"
      ],
      "execution_count": 10,
      "outputs": [
        {
          "output_type": "stream",
          "text": [
            "<class 'pandas.core.frame.DataFrame'>\n",
            "RangeIndex: 18359 entries, 0 to 18358\n",
            "Data columns (total 14 columns):\n",
            " #   Column                  Non-Null Count  Dtype  \n",
            "---  ------                  --------------  -----  \n",
            " 0   enrollee_id             18359 non-null  int64  \n",
            " 1   city                    18359 non-null  object \n",
            " 2   city_development_index  18359 non-null  float64\n",
            " 3   gender                  14261 non-null  object \n",
            " 4   relevent_experience     18359 non-null  object \n",
            " 5   enrolled_university     18017 non-null  object \n",
            " 6   education_level         17902 non-null  object \n",
            " 7   major_discipline        15521 non-null  object \n",
            " 8   experience              18300 non-null  object \n",
            " 9   company_size            13580 non-null  object \n",
            " 10  company_type            13320 non-null  object \n",
            " 11  last_new_job            17992 non-null  object \n",
            " 12  training_hours          18359 non-null  int64  \n",
            " 13  target                  18359 non-null  int64  \n",
            "dtypes: float64(1), int64(3), object(10)\n",
            "memory usage: 2.0+ MB\n"
          ],
          "name": "stdout"
        }
      ]
    },
    {
      "cell_type": "code",
      "metadata": {
        "id": "qdtczS2_bqGU",
        "colab_type": "code",
        "colab": {
          "base_uri": "https://localhost:8080/",
          "height": 384
        },
        "outputId": "b765d2cc-b230-4ccf-827d-c088c3d46451"
      },
      "source": [
        "test_data.info()\n",
        "##### Presence of missing values in : gender ,enrolled_university,education_level ,major_discipline,experience,company_size,company_type,last_new_job"
      ],
      "execution_count": 12,
      "outputs": [
        {
          "output_type": "stream",
          "text": [
            "<class 'pandas.core.frame.DataFrame'>\n",
            "RangeIndex: 15021 entries, 0 to 15020\n",
            "Data columns (total 13 columns):\n",
            " #   Column                  Non-Null Count  Dtype  \n",
            "---  ------                  --------------  -----  \n",
            " 0   enrollee_id             15021 non-null  int64  \n",
            " 1   city                    15021 non-null  object \n",
            " 2   city_development_index  15021 non-null  float64\n",
            " 3   gender                  11633 non-null  object \n",
            " 4   relevent_experience     15021 non-null  object \n",
            " 5   enrolled_university     14742 non-null  object \n",
            " 6   education_level         14626 non-null  object \n",
            " 7   major_discipline        12628 non-null  object \n",
            " 8   experience              14977 non-null  object \n",
            " 9   company_size            10970 non-null  object \n",
            " 10  company_type            10691 non-null  object \n",
            " 11  last_new_job            14717 non-null  object \n",
            " 12  training_hours          15021 non-null  int64  \n",
            "dtypes: float64(1), int64(2), object(10)\n",
            "memory usage: 1.5+ MB\n"
          ],
          "name": "stdout"
        }
      ]
    },
    {
      "cell_type": "code",
      "metadata": {
        "id": "_KiYnFPHbqD1",
        "colab_type": "code",
        "colab": {
          "base_uri": "https://localhost:8080/",
          "height": 337
        },
        "outputId": "8bd32df0-77f6-49a8-d859-063f5b6c163b"
      },
      "source": [
        "###### Target data distribution\n",
        "\n",
        "prop_vals = list(train_data.target.value_counts()/train_data.shape[0])\n",
        "max_val_y,min_val_y = max(train_data.target.value_counts())+1,min(train_data.target.value_counts()+1)\n",
        "\n",
        "plt.figure(facecolor='w',figsize = (10,5))\n",
        "plt.style.use('ggplot')\n",
        "plt.bar(['0','1'],train_data['target'].value_counts())\n",
        "plt.xlabel('Target values')\n",
        "plt.ylabel('Count of values')\n",
        "plt.text(x= '0',y = max_val_y/2,s = prop_vals[0])\n",
        "plt.text(x= '1',y = min_val_y/2,s = prop_vals[1])\n",
        "plt.show()\n"
      ],
      "execution_count": 27,
      "outputs": [
        {
          "output_type": "display_data",
          "data": {
            "image/png": "[encoded data removed]",
            "text/plain": [
              "<Figure size 720x360 with 1 Axes>"
            ]
          },
          "metadata": {
            "tags": []
          }
        }
      ]
    },
    {
      "cell_type": "markdown",
      "metadata": {
        "id": "k8EkE-z7kjc1",
        "colab_type": "text"
      },
      "source": [
        "We can see from above plot that data is imbalanced towards class 0."
      ]
    },
    {
      "cell_type": "code",
      "metadata": {
        "id": "oJkTzNT_bqBm",
        "colab_type": "code",
        "colab": {
          "base_uri": "https://localhost:8080/",
          "height": 337
        },
        "outputId": "3c28e479-bb41-44ae-854b-e936a5e9da5c"
      },
      "source": [
        "#train_data.groupby(['city'])['city_development_index'].apply(lambda x : len(set(x))).sort_values(ascending = False)\n",
        "##### Each city have unique development index\n",
        "\n",
        "city_ind_df = train_data.groupby(['city'])['city_development_index'].agg(np.mean).sort_values(ascending = False).reset_index()\n",
        "\n",
        "plt.figure(figsize = (10,5))\n",
        "plt.boxplot(city_ind_df['city_development_index'],meanline=True)\n",
        "plt.ylabel('City Development Index')\n",
        "plt.title('Boxplot of city development index')\n",
        "plt.show()"
      ],
      "execution_count": 40,
      "outputs": [
        {
          "output_type": "display_data",
          "data": {
            "image/png": "[encoded data removed]",
            "text/plain": [
              "<Figure size 720x360 with 1 Axes>"
            ]
          },
          "metadata": {
            "tags": []
          }
        }
      ]
    },
    {
      "cell_type": "markdown",
      "metadata": {
        "id": "ZZ-6KyvUpN7p",
        "colab_type": "text"
      },
      "source": [
        "We have one outlier past lowest whisker line. The median rating is between 0.7 to 0.8. Many cities have low (below 25th percentile) development index. "
      ]
    },
    {
      "cell_type": "code",
      "metadata": {
        "id": "iF8txs2UbqAT",
        "colab_type": "code",
        "colab": {
          "base_uri": "https://localhost:8080/",
          "height": 337
        },
        "outputId": "051bc53c-7ea6-4d40-c5d2-030c8662ff59"
      },
      "source": [
        "#### Hypothesis 1 : City development index have some effect on whether the person is looking for job change or not.\n",
        "plt.figure(figsize = (10,5))\n",
        "sb.boxplot(x = train_data.target,y = train_data.city_development_index)\n",
        "plt.xlabel('Target classes')\n",
        "plt.ylabel('City dev index')\n",
        "plt.show()"
      ],
      "execution_count": 43,
      "outputs": [
        {
          "output_type": "display_data",
          "data": {
            "image/png": "[encoded data removed]",
            "text/plain": [
              "<Figure size 720x360 with 1 Axes>"
            ]
          },
          "metadata": {
            "tags": []
          }
        }
      ]
    },
    {
      "cell_type": "markdown",
      "metadata": {
        "id": "DQj3X_NstYmx",
        "colab_type": "text"
      },
      "source": [
        "Not clear observations from plot. But we can see that target 1 have the 50% population from cities with index between 0.7 to 0.9.\n"
      ]
    },
    {
      "cell_type": "code",
      "metadata": {
        "id": "FA4vCrONbp_K",
        "colab_type": "code",
        "colab": {
          "base_uri": "https://localhost:8080/",
          "height": 461
        },
        "outputId": "8df46050-be3d-4347-8fe6-467fbaf993a4"
      },
      "source": [
        "train_data"
      ],
      "execution_count": 50,
      "outputs": [
        {
          "output_type": "execute_result",
          "data": {
            "text/html": [
              "<div>\n",
              "<style scoped>\n",
              "    .dataframe tbody tr th:only-of-type {\n",
              "        vertical-align: middle;\n",
              "    }\n",
              "\n",
              "    .dataframe tbody tr th {\n",
              "        vertical-align: top;\n",
              "    }\n",
              "\n",
              "    .dataframe thead th {\n",
              "        text-align: right;\n",
              "    }\n",
              "</style>\n",
              "<table border=\"1\" class=\"dataframe\">\n",
              "  <thead>\n",
              "    <tr style=\"text-align: right;\">\n",
              "      <th></th>\n",
              "      <th>enrollee_id</th>\n",
              "      <th>city</th>\n",
              "      <th>city_development_index</th>\n",
              "      <th>gender</th>\n",
              "      <th>relevent_experience</th>\n",
              "      <th>enrolled_university</th>\n",
              "      <th>education_level</th>\n",
              "      <th>major_discipline</th>\n",
              "      <th>experience</th>\n",
              "      <th>company_size</th>\n",
              "      <th>company_type</th>\n",
              "      <th>last_new_job</th>\n",
              "      <th>training_hours</th>\n",
              "      <th>target</th>\n",
              "    </tr>\n",
              "  </thead>\n",
              "  <tbody>\n",
              "    <tr>\n",
              "      <th>0</th>\n",
              "      <td>23798</td>\n",
              "      <td>city_149</td>\n",
              "      <td>0.689</td>\n",
              "      <td>Male</td>\n",
              "      <td>Has relevent experience</td>\n",
              "      <td>no_enrollment</td>\n",
              "      <td>Graduate</td>\n",
              "      <td>STEM</td>\n",
              "      <td>3</td>\n",
              "      <td>100-500</td>\n",
              "      <td>Pvt Ltd</td>\n",
              "      <td>1</td>\n",
              "      <td>106</td>\n",
              "      <td>0</td>\n",
              "    </tr>\n",
              "    <tr>\n",
              "      <th>1</th>\n",
              "      <td>29166</td>\n",
              "      <td>city_83</td>\n",
              "      <td>0.923</td>\n",
              "      <td>Male</td>\n",
              "      <td>Has relevent experience</td>\n",
              "      <td>no_enrollment</td>\n",
              "      <td>Graduate</td>\n",
              "      <td>STEM</td>\n",
              "      <td>14</td>\n",
              "      <td>&lt;10</td>\n",
              "      <td>Funded Startup</td>\n",
              "      <td>1</td>\n",
              "      <td>69</td>\n",
              "      <td>0</td>\n",
              "    </tr>\n",
              "    <tr>\n",
              "      <th>2</th>\n",
              "      <td>46</td>\n",
              "      <td>city_16</td>\n",
              "      <td>0.910</td>\n",
              "      <td>NaN</td>\n",
              "      <td>Has relevent experience</td>\n",
              "      <td>no_enrollment</td>\n",
              "      <td>Graduate</td>\n",
              "      <td>STEM</td>\n",
              "      <td>6</td>\n",
              "      <td>50-99</td>\n",
              "      <td>Public Sector</td>\n",
              "      <td>2</td>\n",
              "      <td>4</td>\n",
              "      <td>0</td>\n",
              "    </tr>\n",
              "    <tr>\n",
              "      <th>3</th>\n",
              "      <td>18527</td>\n",
              "      <td>city_64</td>\n",
              "      <td>0.666</td>\n",
              "      <td>Male</td>\n",
              "      <td>Has relevent experience</td>\n",
              "      <td>no_enrollment</td>\n",
              "      <td>Graduate</td>\n",
              "      <td>STEM</td>\n",
              "      <td>14</td>\n",
              "      <td>50-99</td>\n",
              "      <td>Pvt Ltd</td>\n",
              "      <td>1</td>\n",
              "      <td>26</td>\n",
              "      <td>0</td>\n",
              "    </tr>\n",
              "    <tr>\n",
              "      <th>4</th>\n",
              "      <td>21751</td>\n",
              "      <td>city_100</td>\n",
              "      <td>0.887</td>\n",
              "      <td>NaN</td>\n",
              "      <td>No relevent experience</td>\n",
              "      <td>no_enrollment</td>\n",
              "      <td>Masters</td>\n",
              "      <td>STEM</td>\n",
              "      <td>8</td>\n",
              "      <td>NaN</td>\n",
              "      <td>NaN</td>\n",
              "      <td>2</td>\n",
              "      <td>88</td>\n",
              "      <td>1</td>\n",
              "    </tr>\n",
              "    <tr>\n",
              "      <th>...</th>\n",
              "      <td>...</td>\n",
              "      <td>...</td>\n",
              "      <td>...</td>\n",
              "      <td>...</td>\n",
              "      <td>...</td>\n",
              "      <td>...</td>\n",
              "      <td>...</td>\n",
              "      <td>...</td>\n",
              "      <td>...</td>\n",
              "      <td>...</td>\n",
              "      <td>...</td>\n",
              "      <td>...</td>\n",
              "      <td>...</td>\n",
              "      <td>...</td>\n",
              "    </tr>\n",
              "    <tr>\n",
              "      <th>18354</th>\n",
              "      <td>25366</td>\n",
              "      <td>city_103</td>\n",
              "      <td>0.920</td>\n",
              "      <td>Male</td>\n",
              "      <td>Has relevent experience</td>\n",
              "      <td>Full time course</td>\n",
              "      <td>Graduate</td>\n",
              "      <td>STEM</td>\n",
              "      <td>5</td>\n",
              "      <td>&lt;10</td>\n",
              "      <td>Pvt Ltd</td>\n",
              "      <td>1</td>\n",
              "      <td>71</td>\n",
              "      <td>0</td>\n",
              "    </tr>\n",
              "    <tr>\n",
              "      <th>18355</th>\n",
              "      <td>25545</td>\n",
              "      <td>city_160</td>\n",
              "      <td>0.920</td>\n",
              "      <td>Male</td>\n",
              "      <td>No relevent experience</td>\n",
              "      <td>no_enrollment</td>\n",
              "      <td>Graduate</td>\n",
              "      <td>Humanities</td>\n",
              "      <td>15</td>\n",
              "      <td>50-99</td>\n",
              "      <td>Pvt Ltd</td>\n",
              "      <td>1</td>\n",
              "      <td>160</td>\n",
              "      <td>0</td>\n",
              "    </tr>\n",
              "    <tr>\n",
              "      <th>18356</th>\n",
              "      <td>11514</td>\n",
              "      <td>city_114</td>\n",
              "      <td>0.926</td>\n",
              "      <td>Male</td>\n",
              "      <td>Has relevent experience</td>\n",
              "      <td>no_enrollment</td>\n",
              "      <td>Masters</td>\n",
              "      <td>STEM</td>\n",
              "      <td>11</td>\n",
              "      <td>50-99</td>\n",
              "      <td>Pvt Ltd</td>\n",
              "      <td>3</td>\n",
              "      <td>18</td>\n",
              "      <td>0</td>\n",
              "    </tr>\n",
              "    <tr>\n",
              "      <th>18357</th>\n",
              "      <td>1689</td>\n",
              "      <td>city_75</td>\n",
              "      <td>0.939</td>\n",
              "      <td>Male</td>\n",
              "      <td>Has relevent experience</td>\n",
              "      <td>no_enrollment</td>\n",
              "      <td>Graduate</td>\n",
              "      <td>STEM</td>\n",
              "      <td>&gt;20</td>\n",
              "      <td>10/49</td>\n",
              "      <td>Pvt Ltd</td>\n",
              "      <td>3</td>\n",
              "      <td>41</td>\n",
              "      <td>0</td>\n",
              "    </tr>\n",
              "    <tr>\n",
              "      <th>18358</th>\n",
              "      <td>5995</td>\n",
              "      <td>city_105</td>\n",
              "      <td>0.794</td>\n",
              "      <td>Female</td>\n",
              "      <td>Has relevent experience</td>\n",
              "      <td>no_enrollment</td>\n",
              "      <td>Graduate</td>\n",
              "      <td>STEM</td>\n",
              "      <td>&gt;20</td>\n",
              "      <td>100-500</td>\n",
              "      <td>Pvt Ltd</td>\n",
              "      <td>2</td>\n",
              "      <td>84</td>\n",
              "      <td>0</td>\n",
              "    </tr>\n",
              "  </tbody>\n",
              "</table>\n",
              "<p>18359 rows × 14 columns</p>\n",
              "</div>"
            ],
            "text/plain": [
              "       enrollee_id      city  ...  training_hours target\n",
              "0            23798  city_149  ...             106      0\n",
              "1            29166   city_83  ...              69      0\n",
              "2               46   city_16  ...               4      0\n",
              "3            18527   city_64  ...              26      0\n",
              "4            21751  city_100  ...              88      1\n",
              "...            ...       ...  ...             ...    ...\n",
              "18354        25366  city_103  ...              71      0\n",
              "18355        25545  city_160  ...             160      0\n",
              "18356        11514  city_114  ...              18      0\n",
              "18357         1689   city_75  ...              41      0\n",
              "18358         5995  city_105  ...              84      0\n",
              "\n",
              "[18359 rows x 14 columns]"
            ]
          },
          "metadata": {
            "tags": []
          },
          "execution_count": 50
        }
      ]
    },
    {
      "cell_type": "code",
      "metadata": {
        "id": "IiapslBMbp6E",
        "colab_type": "code",
        "colab": {
          "base_uri": "https://localhost:8080/",
          "height": 802
        },
        "outputId": "ec45a791-c619-4c3d-a9a2-f7917900e9bc"
      },
      "source": [
        "###### Hypothesis 2 : People with relevant experience wont look for job change. They might have completed to course to add a certification to their profile.\n",
        "\n",
        "def return_model_class(x):\n",
        "  val = x.value_counts()\n",
        "  ind = x.value_counts().index\n",
        "  prop_0_1  = ''\n",
        "  for i,j in zip(val,ind):\n",
        "    prop_0_1 = prop_0_1+str(i)+'-'+str(j)+'/'\n",
        "  \n",
        "  return prop_0_1\n",
        "\n",
        "train_data.pivot_table(index = ['experience'],columns = ['relevent_experience'],values = ['target'],aggfunc = lambda x: return_model_class(x))\n"
      ],
      "execution_count": 49,
      "outputs": [
        {
          "output_type": "execute_result",
          "data": {
            "text/html": [
              "<div>\n",
              "<style scoped>\n",
              "    .dataframe tbody tr th:only-of-type {\n",
              "        vertical-align: middle;\n",
              "    }\n",
              "\n",
              "    .dataframe tbody tr th {\n",
              "        vertical-align: top;\n",
              "    }\n",
              "\n",
              "    .dataframe thead tr th {\n",
              "        text-align: left;\n",
              "    }\n",
              "\n",
              "    .dataframe thead tr:last-of-type th {\n",
              "        text-align: right;\n",
              "    }\n",
              "</style>\n",
              "<table border=\"1\" class=\"dataframe\">\n",
              "  <thead>\n",
              "    <tr>\n",
              "      <th></th>\n",
              "      <th colspan=\"2\" halign=\"left\">target</th>\n",
              "    </tr>\n",
              "    <tr>\n",
              "      <th>relevent_experience</th>\n",
              "      <th>Has relevent experience</th>\n",
              "      <th>No relevent experience</th>\n",
              "    </tr>\n",
              "    <tr>\n",
              "      <th>experience</th>\n",
              "      <th></th>\n",
              "      <th></th>\n",
              "    </tr>\n",
              "  </thead>\n",
              "  <tbody>\n",
              "    <tr>\n",
              "      <th>1</th>\n",
              "      <td>107-0/36-1/</td>\n",
              "      <td>237-0/72-1/</td>\n",
              "    </tr>\n",
              "    <tr>\n",
              "      <th>10</th>\n",
              "      <td>722-0/86-1/</td>\n",
              "      <td>125-0/34-1/</td>\n",
              "    </tr>\n",
              "    <tr>\n",
              "      <th>11</th>\n",
              "      <td>505-0/71-1/</td>\n",
              "      <td>79-0/12-1/</td>\n",
              "    </tr>\n",
              "    <tr>\n",
              "      <th>12</th>\n",
              "      <td>400-0/39-1/</td>\n",
              "      <td>45-0/13-1/</td>\n",
              "    </tr>\n",
              "    <tr>\n",
              "      <th>13</th>\n",
              "      <td>320-0/43-1/</td>\n",
              "      <td>44-0/5-1/</td>\n",
              "    </tr>\n",
              "    <tr>\n",
              "      <th>14</th>\n",
              "      <td>458-0/61-1/</td>\n",
              "      <td>69-0/14-1/</td>\n",
              "    </tr>\n",
              "    <tr>\n",
              "      <th>15</th>\n",
              "      <td>543-0/60-1/</td>\n",
              "      <td>75-0/17-1/</td>\n",
              "    </tr>\n",
              "    <tr>\n",
              "      <th>16</th>\n",
              "      <td>446-0/46-1/</td>\n",
              "      <td>46-0/11-1/</td>\n",
              "    </tr>\n",
              "    <tr>\n",
              "      <th>17</th>\n",
              "      <td>287-0/28-1/</td>\n",
              "      <td>26-0/6-1/</td>\n",
              "    </tr>\n",
              "    <tr>\n",
              "      <th>18</th>\n",
              "      <td>235-0/24-1/</td>\n",
              "      <td>25-0/2-1/</td>\n",
              "    </tr>\n",
              "    <tr>\n",
              "      <th>19</th>\n",
              "      <td>242-0/29-1/</td>\n",
              "      <td>33-0/4-1/</td>\n",
              "    </tr>\n",
              "    <tr>\n",
              "      <th>2</th>\n",
              "      <td>325-0/57-1/</td>\n",
              "      <td>496-0/114-1/</td>\n",
              "    </tr>\n",
              "    <tr>\n",
              "      <th>20</th>\n",
              "      <td>115-0/13-1/</td>\n",
              "      <td>15-0/3-1/</td>\n",
              "    </tr>\n",
              "    <tr>\n",
              "      <th>3</th>\n",
              "      <td>471-0/96-1/</td>\n",
              "      <td>497-0/95-1/</td>\n",
              "    </tr>\n",
              "    <tr>\n",
              "      <th>4</th>\n",
              "      <td>619-0/112-1/</td>\n",
              "      <td>420-0/99-1/</td>\n",
              "    </tr>\n",
              "    <tr>\n",
              "      <th>5</th>\n",
              "      <td>755-0/100-1/</td>\n",
              "      <td>370-0/84-1/</td>\n",
              "    </tr>\n",
              "    <tr>\n",
              "      <th>6</th>\n",
              "      <td>718-0/113-1/</td>\n",
              "      <td>254-0/40-1/</td>\n",
              "    </tr>\n",
              "    <tr>\n",
              "      <th>7</th>\n",
              "      <td>632-0/100-1/</td>\n",
              "      <td>179-0/39-1/</td>\n",
              "    </tr>\n",
              "    <tr>\n",
              "      <th>8</th>\n",
              "      <td>534-0/65-1/</td>\n",
              "      <td>135-0/21-1/</td>\n",
              "    </tr>\n",
              "    <tr>\n",
              "      <th>9</th>\n",
              "      <td>706-0/85-1/</td>\n",
              "      <td>155-0/33-1/</td>\n",
              "    </tr>\n",
              "    <tr>\n",
              "      <th>&lt;1</th>\n",
              "      <td>89-0/35-1/</td>\n",
              "      <td>226-0/66-1/</td>\n",
              "    </tr>\n",
              "    <tr>\n",
              "      <th>&gt;20</th>\n",
              "      <td>2741-0/286-1/</td>\n",
              "      <td>366-0/44-1/</td>\n",
              "    </tr>\n",
              "  </tbody>\n",
              "</table>\n",
              "</div>"
            ],
            "text/plain": [
              "                                     target                       \n",
              "relevent_experience Has relevent experience No relevent experience\n",
              "experience                                                        \n",
              "1                               107-0/36-1/            237-0/72-1/\n",
              "10                              722-0/86-1/            125-0/34-1/\n",
              "11                              505-0/71-1/             79-0/12-1/\n",
              "12                              400-0/39-1/             45-0/13-1/\n",
              "13                              320-0/43-1/              44-0/5-1/\n",
              "14                              458-0/61-1/             69-0/14-1/\n",
              "15                              543-0/60-1/             75-0/17-1/\n",
              "16                              446-0/46-1/             46-0/11-1/\n",
              "17                              287-0/28-1/              26-0/6-1/\n",
              "18                              235-0/24-1/              25-0/2-1/\n",
              "19                              242-0/29-1/              33-0/4-1/\n",
              "2                               325-0/57-1/           496-0/114-1/\n",
              "20                              115-0/13-1/              15-0/3-1/\n",
              "3                               471-0/96-1/            497-0/95-1/\n",
              "4                              619-0/112-1/            420-0/99-1/\n",
              "5                              755-0/100-1/            370-0/84-1/\n",
              "6                              718-0/113-1/            254-0/40-1/\n",
              "7                              632-0/100-1/            179-0/39-1/\n",
              "8                               534-0/65-1/            135-0/21-1/\n",
              "9                               706-0/85-1/            155-0/33-1/\n",
              "<1                               89-0/35-1/            226-0/66-1/\n",
              ">20                           2741-0/286-1/            366-0/44-1/"
            ]
          },
          "metadata": {
            "tags": []
          },
          "execution_count": 49
        }
      ]
    },
    {
      "cell_type": "code",
      "metadata": {
        "id": "Jcn9xjBAbp43",
        "colab_type": "code",
        "colab": {}
      },
      "source": [
        ""
      ],
      "execution_count": 0,
      "outputs": []
    },
    {
      "cell_type": "code",
      "metadata": {
        "id": "p8MF4Bh5bp3X",
        "colab_type": "code",
        "colab": {}
      },
      "source": [
        ""
      ],
      "execution_count": 0,
      "outputs": []
    },
    {
      "cell_type": "code",
      "metadata": {
        "id": "FzXAX3IxbpyY",
        "colab_type": "code",
        "colab": {}
      },
      "source": [
        ""
      ],
      "execution_count": 0,
      "outputs": []
    },
    {
      "cell_type": "code",
      "metadata": {
        "id": "03TH1WISbpwU",
        "colab_type": "code",
        "colab": {}
      },
      "source": [
        ""
      ],
      "execution_count": 0,
      "outputs": []
    },
    {
      "cell_type": "code",
      "metadata": {
        "id": "WQu7tiJGbpuq",
        "colab_type": "code",
        "colab": {}
      },
      "source": [
        ""
      ],
      "execution_count": 0,
      "outputs": []
    },
    {
      "cell_type": "code",
      "metadata": {
        "id": "8z3pFCb7bpqs",
        "colab_type": "code",
        "colab": {}
      },
      "source": [
        ""
      ],
      "execution_count": 0,
      "outputs": []
    }
  ]
}